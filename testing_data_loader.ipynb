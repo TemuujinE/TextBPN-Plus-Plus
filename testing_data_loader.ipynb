{
 "cells": [
  {
   "cell_type": "code",
   "execution_count": null,
   "metadata": {},
   "outputs": [],
   "source": [
    "import ast\n",
    "import math\n",
    "import os, gc\n",
    "import time\n",
    "import random\n",
    "from tqdm import tqdm\n",
    "from pathlib import Path\n",
    "\n",
    "import numpy as np\n",
    "import pandas as pd\n",
    "\n",
    "import cv2\n",
    "from PIL import Image\n",
    "from skimage.measure import label, regionprops\n",
    "\n",
    "import matplotlib\n",
    "matplotlib.use('Agg')\n",
    "\n",
    "import matplotlib.pyplot as plt\n",
    "from matplotlib import cm\n",
    "import matplotlib.colors as colors\n",
    "import matplotlib.patches as patches\n",
    "from matplotlib.colors import LinearSegmentedColormap, Normalize\n",
    "from mpl_toolkits.axes_grid1 import make_axes_locatable\n",
    "\n",
    "\n",
    "import torch\n",
    "import torch.backends.cudnn as cudnn\n",
    "import torch.utils.data as data\n",
    "import torch.nn.functional as F\n",
    "\n",
    "from dataset import DeployDataset, SynthData\n",
    "from network.textnet import TextNet\n",
    "from cfglib.config import config as cfg, update_config, print_config\n",
    "from cfglib.option import BaseOptions\n",
    "from util.augmentation import BaseTransform, Augmentation\n",
    "from util.visualize import visualize_detection, visualize_gt\n",
    "from util.misc import to_device, mkdirs,rescale_result, AverageMeter\n",
    "\n",
    "import multiprocessing\n",
    "multiprocessing.set_start_method(\"spawn\", force=True)\n",
    "\n",
    "\n",
    "jet_cmap = LinearSegmentedColormap.from_list('jet', ['black', 'blue', 'green', 'yellow', 'red', 'white'], N = 256)"
   ]
  },
  {
   "cell_type": "code",
   "execution_count": null,
   "metadata": {},
   "outputs": [],
   "source": [
    "args = {\n",
    "    \"exp_name\": 'TD500',\n",
    "    \"checkepoch\": 1135,\n",
    "    \"test_size\": (640, 960),\n",
    "    \"dis_threshold\": 0.35,\n",
    "    \"cls_threshold\": 0.9,\n",
    "    \"gpu\": \"0\",\n",
    "    \"resume\": False,\n",
    "    \"save_dir\": './model/',\n",
    "}\n",
    "update_config(cfg, args)\n",
    "print_config(cfg)"
   ]
  },
  {
   "cell_type": "code",
   "execution_count": null,
   "metadata": {},
   "outputs": [],
   "source": [
    "def osmkdir(out_dir):\n",
    "    import shutil\n",
    "    if os.path.exists(out_dir):\n",
    "        shutil.rmtree(out_dir)\n",
    "    os.makedirs(out_dir)"
   ]
  },
  {
   "cell_type": "code",
   "execution_count": null,
   "metadata": {},
   "outputs": [],
   "source": [
    "def _parse_data(inputs):\n",
    "    input_dict = {}\n",
    "    inputs = list(map(lambda x: to_device(x), inputs))\n",
    "    input_dict['img'] = inputs[0]\n",
    "    input_dict['train_mask'] = inputs[1]\n",
    "    input_dict['tr_mask'] = inputs[2]\n",
    "    input_dict['distance_field'] = inputs[3]\n",
    "    input_dict['direction_field'] = inputs[4]\n",
    "    input_dict['weight_matrix'] = inputs[5]\n",
    "    input_dict['gt_points'] = inputs[6]\n",
    "    input_dict['proposal_points'] = inputs[7]\n",
    "    input_dict['ignore_tags'] = inputs[8]\n",
    "\n",
    "    return input_dict"
   ]
  },
  {
   "cell_type": "code",
   "execution_count": null,
   "metadata": {},
   "outputs": [],
   "source": [
    "trainset = SynthData(\n",
    "    data_root = '/home/lkhagvadorj/Temuujin/SynthData/synthetic_data/v2/',\n",
    "    gt_file_name = 'train_det_v4.txt',\n",
    "    is_training = True,\n",
    "    load_memory = cfg.load_memory,\n",
    "    transform = Augmentation(size = cfg.input_size, \n",
    "                             mean = cfg.means, \n",
    "                             std = cfg.stds)\n",
    ")\n",
    "\n",
    "train_loader = data.DataLoader(trainset, \n",
    "                               shuffle = True,\n",
    "                               drop_last = False,\n",
    "                               batch_size = 12,\n",
    "                               num_workers = 4,\n",
    "                               pin_memory = True)"
   ]
  },
  {
   "cell_type": "code",
   "execution_count": null,
   "metadata": {},
   "outputs": [],
   "source": [
    "train_step = 0\n",
    "batch_time = AverageMeter()\n",
    "data_time = AverageMeter()\n",
    "end = time.time()\n",
    "batch_time_dict = {\n",
    "    'idx': [],\n",
    "    'time': [],\n",
    "}\n",
    "\n",
    "for i, inputs in tqdm(enumerate(train_loader), total = len(train_loader)):\n",
    "    data_time.update(time.time() - end)\n",
    "    train_step += 1\n",
    "    input_dict = _parse_data(inputs)\n",
    "    \n",
    "    batch_time.update(time.time() - end)\n",
    "    end = time.time()\n",
    "    \n",
    "    batch_time_dict['idx'].append(i)\n",
    "    batch_time_dict['time'].append(batch_time)\n",
    "    \n",
    "    if i > 5:\n",
    "        break"
   ]
  },
  {
   "cell_type": "code",
   "execution_count": null,
   "metadata": {},
   "outputs": [],
   "source": []
  }
 ],
 "metadata": {
  "kernelspec": {
   "display_name": "pt_env",
   "language": "python",
   "name": "python3"
  },
  "language_info": {
   "codemirror_mode": {
    "name": "ipython",
    "version": 3
   },
   "file_extension": ".py",
   "mimetype": "text/x-python",
   "name": "python",
   "nbconvert_exporter": "python",
   "pygments_lexer": "ipython3",
   "version": "3.8.19"
  }
 },
 "nbformat": 4,
 "nbformat_minor": 2
}
