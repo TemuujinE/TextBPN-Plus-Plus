{
 "cells": [
  {
   "cell_type": "code",
   "execution_count": 44,
   "metadata": {},
   "outputs": [],
   "source": [
    "import ast\n",
    "import math\n",
    "import os, gc\n",
    "import random\n",
    "from tqdm import tqdm\n",
    "from pathlib import Path\n",
    "\n",
    "import numpy as np\n",
    "import pandas as pd\n",
    "\n",
    "import cv2\n",
    "from PIL import Image\n",
    "from skimage.measure import label, regionprops\n",
    "\n",
    "import matplotlib\n",
    "matplotlib.use('Agg')\n",
    "\n",
    "import matplotlib.pyplot as plt\n",
    "from matplotlib import cm\n",
    "import matplotlib.colors as colors\n",
    "import matplotlib.patches as patches\n",
    "from matplotlib.colors import LinearSegmentedColormap, Normalize\n",
    "from mpl_toolkits.axes_grid1 import make_axes_locatable\n",
    "\n",
    "\n",
    "import torch\n",
    "import torch.backends.cudnn as cudnn\n",
    "import torch.utils.data as data\n",
    "import torch.nn.functional as F\n",
    "\n",
    "from dataset import DeployDataset\n",
    "from network.textnet import TextNet\n",
    "from cfglib.config import config as cfg, update_config, print_config\n",
    "from cfglib.option import BaseOptions\n",
    "from util.augmentation import BaseTransform\n",
    "from util.visualize import visualize_detection, visualize_gt\n",
    "from util.misc import to_device, mkdirs,rescale_result\n",
    "\n",
    "\n",
    "import multiprocessing\n",
    "multiprocessing.set_start_method(\"spawn\", force=True)\n",
    "\n",
    "\n",
    "jet_cmap = LinearSegmentedColormap.from_list('jet', ['black', 'blue', 'green', 'yellow', 'red', 'white'], N = 256)"
   ]
  },
  {
   "cell_type": "code",
   "execution_count": 35,
   "metadata": {},
   "outputs": [],
   "source": [
    "def osmkdir(out_dir):\n",
    "    import shutil\n",
    "    if os.path.exists(out_dir):\n",
    "        shutil.rmtree(out_dir)\n",
    "    os.makedirs(out_dir)"
   ]
  },
  {
   "cell_type": "code",
   "execution_count": 36,
   "metadata": {},
   "outputs": [],
   "source": [
    "def heatmap(im_gray):\n",
    "    cmap = plt.get_cmap('jet')\n",
    "    rgba_img = cmap(255 - im_gray)\n",
    "    Hmap = np.delete(rgba_img, 3, 2)\n",
    "    return Hmap"
   ]
  },
  {
   "cell_type": "code",
   "execution_count": 43,
   "metadata": {},
   "outputs": [],
   "source": [
    "def format_bbox(boxes, mask_shapes = None, img_shape = None, mask_type = 'gt'):\n",
    "    boxes_clean = []\n",
    "    for box_coords in boxes:\n",
    "        if mask_type == 'mask2box':\n",
    "            mult = img_shape[0]/mask_shapes[0], img_shape[1]/mask_shapes[1]\n",
    "            boxes_clean.append([\n",
    "                [box_coords.bbox[1]*mult[1], box_coords.bbox[0]*mult[0]],\n",
    "                [box_coords.bbox[3]*mult[1], box_coords.bbox[0]*mult[0]],\n",
    "                [box_coords.bbox[3]*mult[1], box_coords.bbox[2]*mult[0]],\n",
    "                [box_coords.bbox[1]*mult[1], box_coords.bbox[2]*mult[0]]\n",
    "            ])\n",
    "    return np.asarray(boxes_clean)\n",
    "\n",
    "def create_mask(boxes, image_shape):\n",
    "    mask = np.zeros(image_shape[:2], dtype = 'uint8')\n",
    "    for box_coords in boxes:\n",
    "        top_left = [math.ceil(val) for val in box_coords[0]]\n",
    "        bottom_right = [math.ceil(val) for val in box_coords[2]]\n",
    "        mask[top_left[1]:bottom_right[1], top_left[0]: bottom_right[0]] = 1\n",
    "    return mask\n",
    "\n",
    "def mask2box(mask, img_shape, bbox_thresh = 0.6):\n",
    "    mask_shapes = mask.shape\n",
    "    mask = mask > bbox_thresh\n",
    "    lbl_0 = label(mask)\n",
    "    props = regionprops(lbl_0)\n",
    "    return format_bbox(props, mask_shapes, img_shape, mask_type = 'mask2box')"
   ]
  },
  {
   "cell_type": "code",
   "execution_count": 2,
   "metadata": {},
   "outputs": [
    {
     "name": "stdout",
     "output_type": "stream",
     "text": [
      "==========Options============\n",
      "means: (0.485, 0.456, 0.406)\n",
      "stds: (0.229, 0.224, 0.225)\n",
      "gpu: 0\n",
      "exp_name: TD500\n",
      "num_workers: 24\n",
      "batch_size: 12\n",
      "max_epoch: 200\n",
      "start_epoch: 0\n",
      "lr: 0.0001\n",
      "cuda: True\n",
      "output_dir: output\n",
      "input_size: 640\n",
      "max_annotation: 64\n",
      "adj_num: 4\n",
      "num_points: 20\n",
      "use_hard: True\n",
      "load_memory: False\n",
      "scale: 4\n",
      "grad_clip: 25\n",
      "dis_threshold: 0.35\n",
      "cls_threshold: 0.9\n",
      "approx_factor: 0.004\n",
      "img_root: /home/lkhagvadorj/Temuujin/gcv/tmp/\n",
      "net: resnet18\n",
      "checkepoch: 1135\n",
      "test_size: (640, 960)\n",
      "resume: False\n",
      "save_dir: ./model/\n",
      "device: cuda\n",
      "=============End=============\n"
     ]
    }
   ],
   "source": [
    "args = {\n",
    "    \"img_root\": \"/home/lkhagvadorj/Temuujin/gcv/tmp/\",\n",
    "    \"net\": \"resnet18\",\n",
    "    \"scale\": 4,\n",
    "    \"exp_name\": 'TD500',\n",
    "    \"checkepoch\": 1135,\n",
    "    \"test_size\": (640, 960),\n",
    "    \"dis_threshold\": 0.35,\n",
    "    \"cls_threshold\": 0.9,\n",
    "    \"gpu\": \"0\",\n",
    "    \"resume\": False,\n",
    "    \"save_dir\": './model/',\n",
    "}\n",
    "update_config(cfg, args)\n",
    "print_config(cfg)"
   ]
  },
  {
   "cell_type": "code",
   "execution_count": 3,
   "metadata": {},
   "outputs": [
    {
     "name": "stdout",
     "output_type": "stream",
     "text": [
      "Loading from ./model/TD500/TextBPN_resnet18_1135.pth\n"
     ]
    }
   ],
   "source": [
    "testset = DeployDataset(\n",
    "    image_root = cfg.img_root,\n",
    "    transform = BaseTransform(size=cfg.test_size, mean=cfg.means, std=cfg.stds)\n",
    ")\n",
    "\n",
    "if cfg.cuda:\n",
    "    cudnn.benchmark = True\n",
    "\n",
    "# Data\n",
    "test_loader = data.DataLoader(testset, batch_size=1, shuffle=False, num_workers=cfg.num_workers)\n",
    "\n",
    "# Model\n",
    "model = TextNet(is_training=False, backbone=cfg.net)\n",
    "model_path = os.path.join(cfg.save_dir, cfg.exp_name,\n",
    "                            'TextBPN_{}_{}.pth'.format(model.backbone_name, cfg.checkepoch))\n",
    "\n",
    "model.load_model(model_path)\n",
    "model = model.to(cfg.device)  # copy to cuda"
   ]
  },
  {
   "cell_type": "code",
   "execution_count": 6,
   "metadata": {},
   "outputs": [
    {
     "name": "stdout",
     "output_type": "stream",
     "text": [
      "Start testing TextBPN++.\n",
      "['gcv_0236.jpg'] (2334, 1634)\n"
     ]
    }
   ],
   "source": [
    "model.eval()\n",
    "with torch.no_grad():\n",
    "    print('Start testing TextBPN++.')\n",
    "    output_dir = os.path.join(cfg.output_dir, cfg.exp_name)\n",
    "    osmkdir(output_dir)\n",
    "    \n",
    "    for i, (image, meta) in enumerate(test_loader):\n",
    "        input_dict = dict()\n",
    "        idx = 0  # test mode can only run with batch_size == 1\n",
    "        H, W = meta['Height'][idx].item(), meta['Width'][idx].item()\n",
    "        print(meta['image_id'], (H, W))\n",
    "\n",
    "        input_dict['img'] = to_device(image)\n",
    "\n",
    "        # get detection result\n",
    "        output_dict = model(input_dict)\n",
    "        \n",
    "        img_show = image[idx].permute(1, 2, 0).cpu().numpy()\n",
    "        img_show = ((img_show * cfg.stds + cfg.means) * 255).astype(np.uint8)"
   ]
  },
  {
   "cell_type": "code",
   "execution_count": 19,
   "metadata": {},
   "outputs": [],
   "source": [
    "img_show = image[idx].permute(1, 2, 0).cpu().numpy()\n",
    "img_show = ((img_show * cfg.stds + cfg.means) * 255).astype(np.uint8)\n",
    "\n",
    "image_show = img_show.copy()\n",
    "image_show = np.ascontiguousarray(image_show[:, :, ::-1])\n",
    "\n",
    "cls_preds = F.interpolate(output_dict[\"fy_preds\"], scale_factor=cfg.scale, mode='bilinear')\n",
    "cls_preds = cls_preds[0].data.cpu().numpy()\n",
    "\n",
    "cls_pred = heatmap(np.array(cls_preds[0] * 255, dtype=np.uint8))\n",
    "dis_pred = heatmap(np.array(cls_preds[1] * 255, dtype=np.uint8))\n",
    "\n",
    "heat_map = np.concatenate([cls_pred*255, dis_pred*255], axis=1)\n",
    "heat_map = cv2.resize(heat_map, (320 * 2, 320))"
   ]
  },
  {
   "cell_type": "code",
   "execution_count": 75,
   "metadata": {},
   "outputs": [
    {
     "data": {
      "text/plain": [
       "92465"
      ]
     },
     "execution_count": 75,
     "metadata": {},
     "output_type": "execute_result"
    }
   ],
   "source": [
    "import matplotlib\n",
    "matplotlib.use('module://ipykernel.pylab.backend_inline')\n",
    "\n",
    "fig, axs = plt.subplots(2, 2, num = 1, clear = True, figsize = (10, 10))\n",
    "\n",
    "vmin = cls_preds[0].min()\n",
    "vmax = cls_preds[0].max()\n",
    "centered_log_norm = colors.SymLogNorm(linthresh = 0.03, linscale = 0.03, \n",
    "                                      vmin = vmin, vmax = vmax, base = 10)\n",
    "\n",
    "pred_heatmap = axs[0][0].imshow(cls_preds[0], norm = centered_log_norm, cmap = jet_cmap)\n",
    "divider = make_axes_locatable(axs[0][0])\n",
    "cax = divider.append_axes('right', size = '5%', pad = 0.05)\n",
    "fig.colorbar(pred_heatmap, cax = cax, orientation = 'vertical')\n",
    "\n",
    "axs[0][0].set_title(\"Pred Mask\")\n",
    "axs[0][0].axis('off')\n",
    "\n",
    "vmin = cls_preds[1].min()\n",
    "vmax = cls_preds[1].max()\n",
    "centered_log_norm = colors.SymLogNorm(linthresh = 0.03, linscale = 0.03, \n",
    "                                      vmin = vmin, vmax = vmax, base = 10)\n",
    "\n",
    "pred_heatmap = axs[0][1].imshow(cls_preds[0], norm = centered_log_norm, cmap = jet_cmap)\n",
    "divider = make_axes_locatable(axs[0][1])\n",
    "cax = divider.append_axes('right', size = '5%', pad = 0.05)\n",
    "fig.colorbar(pred_heatmap, cax = cax, orientation = 'vertical')\n",
    "\n",
    "axs[0][1].set_title(\"Distance Mask\")\n",
    "axs[0][1].axis('off')\n",
    "\n",
    "\n",
    "img = np.asarray(Image.open(meta['image_path'][0]))\n",
    "pred_bbox = [mask2box(cls_preds[0], (H, W), bbox_thresh = 0.8), mask2box(cls_preds[1], (H, W), bbox_thresh = 0.8)]\n",
    "for idx, pred_bboxes in enumerate(pred_bbox):\n",
    "    axs[1][idx].imshow(img)\n",
    "    axs[1][idx].axis('off')\n",
    "    \n",
    "    axs[1][idx].set_title(\"Bbox thresh: 0.8\")\n",
    "\n",
    "    for ((x1, y1), (x2, y2), (x3, y3), (x4, y4)) in pred_bboxes:\n",
    "        width = x3 - x1\n",
    "        height = y3 - y1\n",
    "        rect = patches.Rectangle((x1, y1), width, height, linewidth = 1, edgecolor = 'red', facecolor = 'none')\n",
    "        axs[1][idx].add_patch(rect)\n",
    "\n",
    "        axs[1][idx].plot(x1, y1, marker = 'o', markersize = 2, color = 'r')\n",
    "        axs[1][idx].plot(x2, y2, marker = 'o', markersize = 2, color = 'g')\n",
    "        axs[1][idx].plot(x3, y3, marker = 'o', markersize = 2, color = 'b')\n",
    "        axs[1][idx].plot(x4, y4, marker = 'o', markersize = 2, color = 'pink')\n",
    "\n",
    "fig.tight_layout()\n",
    "fig.savefig('tmp_2.png', dpi = 150)\n",
    "\n",
    "del fig, axs\n",
    "gc.collect()"
   ]
  },
  {
   "cell_type": "code",
   "execution_count": null,
   "metadata": {},
   "outputs": [],
   "source": []
  },
  {
   "cell_type": "code",
   "execution_count": null,
   "metadata": {},
   "outputs": [],
   "source": []
  }
 ],
 "metadata": {
  "kernelspec": {
   "display_name": "pt_env",
   "language": "python",
   "name": "python3"
  },
  "language_info": {
   "codemirror_mode": {
    "name": "ipython",
    "version": 3
   },
   "file_extension": ".py",
   "mimetype": "text/x-python",
   "name": "python",
   "nbconvert_exporter": "python",
   "pygments_lexer": "ipython3",
   "version": "3.8.19"
  }
 },
 "nbformat": 4,
 "nbformat_minor": 2
}
